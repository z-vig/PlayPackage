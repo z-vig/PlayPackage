{
 "cells": [
  {
   "cell_type": "code",
   "execution_count": 1,
   "id": "b15deea9",
   "metadata": {},
   "outputs": [],
   "source": [
    "%load_ext autoreload\n",
    "%autoreload 2\n",
    "import sys\n",
    "from pathlib import Path\n",
    "sys.path.append(Path.cwd().__str__())"
   ]
  },
  {
   "cell_type": "code",
   "execution_count": 2,
   "id": "b3d0e1b7",
   "metadata": {},
   "outputs": [
    {
     "name": "stdout",
     "output_type": "stream",
     "text": [
      "Welcome to the PlayPackage! Feel free to play around!\n"
     ]
    }
   ],
   "source": [
    "import PlayPackage"
   ]
  },
  {
   "cell_type": "code",
   "execution_count": null,
   "id": "739d7e6b",
   "metadata": {},
   "outputs": [],
   "source": [
    "cc = PlayPackage.ConfettiCannon(\"Blue\")"
   ]
  }
 ],
 "metadata": {
  "kernelspec": {
   "display_name": "playpkg",
   "language": "python",
   "name": "python3"
  },
  "language_info": {
   "codemirror_mode": {
    "name": "ipython",
    "version": 3
   },
   "file_extension": ".py",
   "mimetype": "text/x-python",
   "name": "python",
   "nbconvert_exporter": "python",
   "pygments_lexer": "ipython3",
   "version": "3.13.2"
  }
 },
 "nbformat": 4,
 "nbformat_minor": 5
}
